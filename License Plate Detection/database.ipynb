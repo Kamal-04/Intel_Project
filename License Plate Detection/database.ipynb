{
 "cells": [
  {
   "cell_type": "code",
   "execution_count": 2,
   "metadata": {},
   "outputs": [],
   "source": [
    "import sqlite3 as sql\n",
    "\n",
    "class ParkingArea:\n",
    "\n",
    "    def __init__(self,parking_area_name : str,total_capacity : int, currently_filled = 0 ) -> None:\n",
    "\n",
    "        # Parameter initialization\n",
    "        self.name = parking_area_name\n",
    "        self.total_capacity = total_capacity\n",
    "        self.currently_filled = currently_filled\n",
    "        self.avg_occupancy = 0\n",
    "        self.avg_new_visiting = 0\n",
    "\n",
    "        # Database Connetion Initialization\n",
    "        self._db_name = parking_area_name +  \".db\"\n",
    "        self.parked_table_name = parking_area_name+ \"_parked\"\n",
    "        self.record_table_name = parking_area_name+ \"_record\"\n",
    "        self.customer_table_name = parking_area_name+ \"_customer\"\n",
    "\n",
    "        # Database Creation\n",
    "        self._db = sql.connect(self._db_name)\n",
    "        \n",
    "        # Database Cursor Declaration\n",
    "        self.db_cur = self._db.cursor()\n",
    "        self.db_cur.execute(f\"CREATE TABLE {self.parked_table_name} (Car_Number VARCHAR , In_Time VARCHAR)\")\n",
    "        self.db_cur.execute(f\"CREATE TABLE {self.record_table_name} (Car_Number VARCHAR , In_Time VARCHAR , Out_Time VARCHAR)\")\n",
    "        self.db_cur.execute(f\"CREATE TABLE {self.customer_table_name} (Car_Id INTEGER, Car_Number VARCHAR)\")\n",
    "    \n",
    "    def customer_data_entry(self, vehicle_id : int, vehicle_number : str) -> bool:\n",
    "\n",
    "        #Adding Customer's Id and Car Number\n",
    "        try:\n",
    "            cmd = f'''INSERT INTO {self.customer_table_name} VALUES ( \"{vehicle_id}\", \"{vehicle_number}\")'''\n",
    "            self.db_cur.execute(cmd)\n",
    "            return True\n",
    "\n",
    "        except:\n",
    "            print(\"Entry failed\")\n",
    "            return False\n",
    "        \n",
    "\n",
    "    def entry(self, vechile_id : str, In_Time : str) -> bool:\n",
    "        '''\n",
    "            Adds the car to Parked Table\n",
    "        '''\n",
    "        flag = 0\n",
    "        try:\n",
    "            #Check if slots are available\n",
    "            if self.currently_filled < self.total_capacity:\n",
    "                cmd = f'''INSERT INTO {self.parked_table_name} VALUES (\"{vechile_id}\",\"{In_Time}\")'''\n",
    "                self.db_cur.execute(cmd)\n",
    "                self.currently_filled+=1\n",
    "                flag = 1\n",
    "            else:\n",
    "\n",
    "                print(\"No free parking slots available\")\n",
    "                return False\n",
    "            return True\n",
    "        \n",
    "        except:\n",
    "            print(\"Entry Failed\")\n",
    "            return False\n",
    "    \n",
    "    \n",
    "    def exit(self, vechile_id : str , Out_Time : str) -> bool:\n",
    "        '''\n",
    "            Remove the car from the Parked Database and Its to the Entry Records \n",
    "        '''\n",
    "        try:\n",
    "            select_cmd = f\"SELECT * FROM {self.parked_table_name} WHERE Car_Number = '{vechile_id}'\"\n",
    "            car_data_cur   = self.db_cur.execute(select_cmd)\n",
    "            vechile_id,In_Time = car_data_cur.fetchone()\n",
    "            \n",
    "            push_data = f'''INSERT INTO {self.record_table_name} VALUES (\"{vechile_id}\",\"{In_Time}\",\"{Out_Time}\")'''\n",
    "            self.db_cur.execute(push_data)\n",
    "\n",
    "            cmd = f\"DELETE FROM {self.parked_table_name} WHERE Car_Number = '{vechile_id}'\"\n",
    "            self.db_cur.execute(cmd)\n",
    "            self.currently_filled-=1\n",
    "\n",
    "            return True\n",
    "        except:\n",
    "            print(\"Exit Failed\")\n",
    "            return False"
   ]
  },
  {
   "cell_type": "code",
   "execution_count": 1,
   "metadata": {},
   "outputs": [],
   "source": [
    "import pandas as pd\n",
    "sample_data = pd.read_csv('entry_exit data/entry_exit_2.csv')\n",
    "customer_data = pd.read_csv('customer_data/customer_data.csv')"
   ]
  },
  {
   "cell_type": "code",
   "execution_count": 3,
   "metadata": {},
   "outputs": [
    {
     "name": "stdout",
     "output_type": "stream",
     "text": [
      "20\n"
     ]
    }
   ],
   "source": [
    "\n",
    "vehicle_id = sample_data['vehicle_id']\n",
    "vehicle_number = sample_data['vehicle_license_plate']\n",
    "entry_time_data = sample_data['entry_time']\n",
    "exit_time_data = sample_data['exit_time']\n",
    "\n",
    "cust_id = customer_data['car_id']\n",
    "cust_number = customer_data['car_number']\n",
    "print(len(cust_id))"
   ]
  },
  {
   "cell_type": "code",
   "execution_count": 4,
   "metadata": {},
   "outputs": [
    {
     "data": {
      "text/plain": [
       "'Sample_mall_parked'"
      ]
     },
     "execution_count": 4,
     "metadata": {},
     "output_type": "execute_result"
    }
   ],
   "source": [
    "sample_area = ParkingArea('Sample_mall',20)\n",
    "sample_area.parked_table_name"
   ]
  },
  {
   "cell_type": "code",
   "execution_count": 5,
   "metadata": {},
   "outputs": [
    {
     "data": {
      "text/plain": [
       "<sqlite3.Cursor at 0x1b5ff34d5c0>"
      ]
     },
     "execution_count": 5,
     "metadata": {},
     "output_type": "execute_result"
    }
   ],
   "source": [
    "#QUICK COMMANDS FOR RESETTING TABLE\n",
    "del_cmd = f\"DELETE FROM {sample_area.parked_table_name}\"\n",
    "del_cmd2 = f\"DELETE FROM {sample_area.record_table_name}\"\n",
    "sample_area.db_cur.execute(del_cmd)\n",
    "sample_area.db_cur.execute(del_cmd2)\n"
   ]
  },
  {
   "cell_type": "code",
   "execution_count": 7,
   "metadata": {},
   "outputs": [],
   "source": [
    "for i in range(0,len(cust_id)):\n",
    "    id = cust_id[i]\n",
    "    number = cust_number[i]\n",
    "    sample_area.customer_data_entry(id,number)"
   ]
  },
  {
   "cell_type": "code",
   "execution_count": 8,
   "metadata": {},
   "outputs": [
    {
     "name": "stdout",
     "output_type": "stream",
     "text": [
      "Vehicle Id = 1  True  \n",
      "Vehicle Id = 2  True  \n",
      "Vehicle Id = 3  True  \n",
      "Vehicle Id = 4  True  \n",
      "Vehicle Id = 5  True  \n",
      "Vehicle Id = 11  True  \n",
      "Vehicle Id = 12  True  \n",
      "Vehicle Id = 13  True  \n",
      "Vehicle Id = 14  True  \n",
      "Vehicle Id = 15  True  \n",
      "Vehicle Id = 16  True  \n",
      "Vehicle Id = 17  True  \n",
      "Vehicle Id = 18  True  \n",
      "Vehicle Id = 19  True  \n",
      "Vehicle Id = 20  True  \n",
      "Vehicle Id = 21  True  \n",
      "Vehicle Id = 22  True  \n",
      "Vehicle Id = 23  True  \n",
      "Vehicle Id = 24  True  \n",
      "Vehicle Id = 25  True  \n",
      "Vehicle Id = 26  True  \n",
      "Vehicle Id = 27  True  \n",
      "Vehicle Id = 28  True  \n",
      "Vehicle Id = 29  True  \n",
      "Vehicle Id = 30  True  \n",
      "Vehicle Id = 46  True  \n",
      "Vehicle Id = 47  True  \n",
      "Vehicle Id = 48  True  \n",
      "Vehicle Id = 49  True  \n",
      "Vehicle Id = 50  True  \n",
      "Vehicle Id = 51  True  \n",
      "Vehicle Id = 52  True  \n",
      "Vehicle Id = 53  True  \n",
      "Vehicle Id = 54  True  \n",
      "Vehicle Id = 55  True  \n",
      "Vehicle Id = 56  True  \n",
      "Vehicle Id = 57  True  \n",
      "Vehicle Id = 58  True  \n",
      "Vehicle Id = 59  True  \n",
      "Vehicle Id = 60  True  \n",
      "No free parking slots available\n",
      "Vehicle Id = 61  False  \n",
      "No free parking slots available\n",
      "Vehicle Id = 62  False  \n",
      "No free parking slots available\n",
      "Vehicle Id = 63  False  \n",
      "No free parking slots available\n",
      "Vehicle Id = 64  False  \n",
      "No free parking slots available\n",
      "Vehicle Id = 65  False  \n",
      "No free parking slots available\n",
      "Vehicle Id = 66  False  \n",
      "No free parking slots available\n",
      "Vehicle Id = 67  False  \n",
      "No free parking slots available\n",
      "Vehicle Id = 68  False  \n",
      "No free parking slots available\n",
      "Vehicle Id = 69  False  \n",
      "No free parking slots available\n",
      "Vehicle Id = 70  False  \n",
      "No free parking slots available\n",
      "Vehicle Id = 71  False  \n",
      "No free parking slots available\n",
      "Vehicle Id = 72  False  \n",
      "No free parking slots available\n",
      "Vehicle Id = 73  False  \n",
      "No free parking slots available\n",
      "Vehicle Id = 74  False  \n",
      "No free parking slots available\n",
      "Vehicle Id = 75  False  \n"
     ]
    }
   ],
   "source": [
    "for i in range(0,len(vehicle_id)):   \n",
    "    id = vehicle_id[i] \n",
    "    number = vehicle_number[i]\n",
    "    entry = entry_time_data[i]\n",
    "    exit = exit_time_data[i]\n",
    "\n",
    "    cmd = f\"SELECT * FROM {sample_area.parked_table_name} WHERE Car_Number = '{number}'\"\n",
    "    check = sample_area.db_cur.execute(cmd).fetchall()\n",
    "\n",
    "    if len(check) == 0:\n",
    "        ret = sample_area.entry(number,entry)\n",
    "        print(f\"Vehicle Id = {id}  {ret}  \")\n",
    "    else:\n",
    "        ret = sample_area.exit(number,exit)\n",
    "    \n",
    "    \n",
    "    \n",
    "\n",
    "    "
   ]
  },
  {
   "cell_type": "code",
   "execution_count": 11,
   "metadata": {},
   "outputs": [
    {
     "name": "stdout",
     "output_type": "stream",
     "text": [
      "[('KA-01-AB-1234', '09:00'), ('DL-05-CD-5678', '09:30'), ('MH-12-EF-9101', '10:00'), ('AP-31-GH-2345', '10:30'), ('TN-22-IJ-6789', '11:00'), ('KA-05-GH-6789', '09:00'), ('DL-09-IJ-1234', '09:30'), ('MH-16-KL-5678', '10:00'), ('AP-35-MN-9101', '10:30'), ('TN-26-OP-2345', '11:00'), ('KA-06-QR-3456', '09:00'), ('DL-10-ST-7890', '09:30'), ('MH-17-UV-1234', '10:00'), ('AP-36-WX-5678', '10:30'), ('TN-27-YZ-9101', '11:00'), ('KA-07-AB-1234', '09:00'), ('DL-11-CD-5678', '09:30'), ('MH-18-EF-9101', '10:00'), ('AP-37-GH-2345', '10:30'), ('TN-28-IJ-6789', '11:00')]\n"
     ]
    }
   ],
   "source": [
    "print(sample_area.db_cur.execute(f\"SELECT * FROM {sample_area.parked_table_name}\").fetchall())\n"
   ]
  }
 ],
 "metadata": {
  "kernelspec": {
   "display_name": ".venv",
   "language": "python",
   "name": "python3"
  },
  "language_info": {
   "codemirror_mode": {
    "name": "ipython",
    "version": 3
   },
   "file_extension": ".py",
   "mimetype": "text/x-python",
   "name": "python",
   "nbconvert_exporter": "python",
   "pygments_lexer": "ipython3",
   "version": "3.10.11"
  }
 },
 "nbformat": 4,
 "nbformat_minor": 2
}
