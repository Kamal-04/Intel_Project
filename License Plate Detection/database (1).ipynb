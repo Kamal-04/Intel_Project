{
 "cells": [
  {
   "cell_type": "code",
   "execution_count": 1,
   "metadata": {},
   "outputs": [],
   "source": [
    "import sqlite3 as sql\n",
    "import datetime\n",
    "class ParkingArea:\n",
    "\n",
    "    def __init__(self,parking_area_name : str,total_capacity : int, currently_filled = 0 ) -> None:\n",
    "\n",
    "        # Parameter initialization\n",
    "        self.name = parking_area_name\n",
    "        self.total_capacity = total_capacity\n",
    "        self.currently_filled = currently_filled\n",
    "        self.avg_occupancy = 0\n",
    "        self.avg_new_visiting = 0\n",
    "        self.dates = set()\n",
    "        self.daily_slot_average = {}\n",
    "        self.daily_slot_count = {}\n",
    "        self.slot_unavailable_count = {}\n",
    "        self.daily_new_visiting = {}\n",
    "        self.date_format = \"%Y-%m-%d\"\n",
    "        self.current_date = datetime.datetime.now()\n",
    "        \n",
    "\n",
    "        \n",
    "        # Database Connetion Initialization\n",
    "        self._db_name = parking_area_name +  \".db\"\n",
    "        self.parked_table_name = parking_area_name+ \"_parked\"\n",
    "        self.record_table_name = parking_area_name+ \"_record\"\n",
    "        self.customer_table_name = parking_area_name+ \"_customer\"\n",
    "\n",
    "        # Database Creation\n",
    "        self._db = sql.connect(self._db_name)\n",
    "        \n",
    "        # Database Cursor Declaration\n",
    "        self.db_cur = self._db.cursor()\n",
    "        self.db_cur.execute(f\"CREATE TABLE IF NOT EXISTS {self.parked_table_name} (Car_Number VARCHAR , Date VARCHAR, In_Time VARCHAR)\")\n",
    "        self.db_cur.execute(f\"CREATE TABLE IF NOT EXISTS {self.record_table_name} (Car_Number VARCHAR , Date VARCHAR, In_Time VARCHAR , Out_Time VARCHAR)\")\n",
    "        self.db_cur.execute(f\"CREATE TABLE IF NOT EXISTS {self.customer_table_name} (Car_Id INTEGER, Car_Number VARCHAR)\")\n",
    "    \n",
    "    def customer_data_entry(self, vehicle_id : int, vehicle_number : str) -> bool:\n",
    "\n",
    "        #Adding Customer's Id and Car Number\n",
    "        try:\n",
    "            cmd = f'''INSERT INTO {self.customer_table_name} VALUES ( \"{vehicle_id}\", \"{vehicle_number}\")'''\n",
    "            self.db_cur.execute(cmd)\n",
    "            return True\n",
    "\n",
    "        except:\n",
    "            print(\"Entry failed\")\n",
    "            return False\n",
    "        \n",
    "\n",
    "    def entry(self, vechile_id : str, date : str, In_Time : str) -> bool:\n",
    "        '''\n",
    "            Adds the car to Parked Table\n",
    "        '''\n",
    "        flag = 0\n",
    "        try:\n",
    "            # Initialize date in dictionary\n",
    "            if date not in self.slot_unavailable_count:\n",
    "                self.slot_unavailable_count[date] = 0\n",
    "            if date not in self.daily_new_visiting:\n",
    "                self.daily_new_visiting[date] = 0\n",
    "\n",
    "            #Check if existing customer or new-comer \n",
    "            check_cmd = f\"SELECT * FROM {self.customer_table_name} WHERE Car_Number = '{vechile_id}'\"\n",
    "            res = self.db_cur.execute(check_cmd)\n",
    "            count = res.fetchone()\n",
    "            if not count:\n",
    "                self.daily_new_visiting[date] += 1\n",
    "\n",
    "\n",
    "            \n",
    "\n",
    "            if self.currently_filled < self.total_capacity:\n",
    "                cmd = f'''INSERT INTO {self.parked_table_name} VALUES (\"{vechile_id}\",\"{date}\",\"{In_Time}\")'''\n",
    "                self.db_cur.execute(cmd)\n",
    "                self.currently_filled+=1\n",
    "                \n",
    "                if date not in self.daily_slot_count:\n",
    "                    self.daily_slot_count[date] = 1\n",
    "                else:\n",
    "                    self.daily_slot_count[date] += 1\n",
    "\n",
    "                curr_date = datetime.datetime.strptime(date,self.date_format)\n",
    "                if self.current_date == datetime.datetime.now():\n",
    "                    self.current_date = curr_date\n",
    "                else:\n",
    "                    # if self.current_date != curr_date:\n",
    "                    #     self.daily_average(date)\n",
    "                    self.current_date = curr_date\n",
    "                self.daily_average(date)\n",
    "\n",
    "                self.dates.add(date)\n",
    "            else:\n",
    "                self.slot_unavailable_count[date] += 1\n",
    "                print(\"No free parking slots available\")\n",
    "                return False\n",
    "            return True\n",
    "        \n",
    "        except:\n",
    "            print(\"Entry Failed\")\n",
    "            return False\n",
    "    \n",
    "    \n",
    "    def exit(self, vechile_id : str , Out_Time : str) -> bool:\n",
    "        '''\n",
    "            Remove the car from the Parked Database and Its to the Entry Records \n",
    "        '''\n",
    "        try:\n",
    "            select_cmd = f\"SELECT * FROM {self.parked_table_name} WHERE Car_Number = '{vechile_id}'\"\n",
    "            car_data_cur   = self.db_cur.execute(select_cmd)\n",
    "            vechile_id,date,In_Time = car_data_cur.fetchone()\n",
    "            \n",
    "            push_data = f'''INSERT INTO {self.record_table_name} VALUES (\"{vechile_id}\",\"{date}\",\"{In_Time}\",\"{Out_Time}\")'''\n",
    "            self.db_cur.execute(push_data)\n",
    "\n",
    "            cmd = f\"DELETE FROM {self.parked_table_name} WHERE Car_Number = '{vechile_id}'\"\n",
    "            self.db_cur.execute(cmd)\n",
    "            self.currently_filled-=1\n",
    "\n",
    "            return True\n",
    "        except:\n",
    "            print(\"Exit Failed\")\n",
    "            return False\n",
    "        \n",
    "    def daily_average(self,cur_date : str):\n",
    "        if cur_date not in self.daily_slot_average:\n",
    "            self.daily_slot_average[cur_date] = 0\n",
    "        ct = self.daily_slot_count[cur_date]\n",
    "        avg = (ct/self.total_capacity)*100\n",
    "        self.daily_slot_average[cur_date] = avg\n",
    "\n"
   ]
  },
  {
   "cell_type": "code",
   "execution_count": 2,
   "metadata": {},
   "outputs": [],
   "source": [
    "import pandas as pd\n",
    "sample_data = pd.read_csv('entry_exit data/data_3.csv')\n",
    "customer_data = pd.read_csv('customer_data/customer_data.csv')"
   ]
  },
  {
   "cell_type": "code",
   "execution_count": 3,
   "metadata": {},
   "outputs": [
    {
     "name": "stdout",
     "output_type": "stream",
     "text": [
      "20\n"
     ]
    }
   ],
   "source": [
    "\n",
    "vehicle_id = sample_data['vehicle_id']\n",
    "vehicle_number = sample_data['vehicle_license_plate']\n",
    "entry_time_data = sample_data['entry_time']\n",
    "exit_time_data = sample_data['exit_time']\n",
    "date_data = sample_data['date']\n",
    "\n",
    "cust_id = customer_data['car_id']\n",
    "cust_number = customer_data['car_number']\n",
    "print(len(cust_id))"
   ]
  },
  {
   "cell_type": "code",
   "execution_count": 15,
   "metadata": {},
   "outputs": [],
   "source": [
    "# from datetime import datetime\n",
    "# print(type(date_data[0]))\n",
    "# print(date_data[0])\n",
    "# date_format = \"%Y-%m-%d\"\n",
    "# curr_date = datetime.strptime(date_data[0],date_format)\n",
    "# print(type(curr_date))\n",
    "# print(curr_date)"
   ]
  },
  {
   "cell_type": "code",
   "execution_count": 4,
   "metadata": {},
   "outputs": [
    {
     "data": {
      "text/plain": [
       "'Sample_mall4_parked'"
      ]
     },
     "execution_count": 4,
     "metadata": {},
     "output_type": "execute_result"
    }
   ],
   "source": [
    "sample_area = ParkingArea('Sample_mall4',20)\n",
    "sample_area.parked_table_name"
   ]
  },
  {
   "cell_type": "code",
   "execution_count": 18,
   "metadata": {},
   "outputs": [],
   "source": [
    "#QUICK COMMANDS FOR RESETTING TABLE\n",
    "del_cmd = f\"DELETE FROM {sample_area.parked_table_name}\"\n",
    "del_cmd2 = f\"DELETE FROM {sample_area.record_table_name}\"\n",
    "sample_area.db_cur.execute(del_cmd)\n",
    "sample_area.db_cur.execute(del_cmd2)\n",
    "sample_area.currently_filled = 0\n"
   ]
  },
  {
   "cell_type": "code",
   "execution_count": 5,
   "metadata": {},
   "outputs": [],
   "source": [
    "for i in range(0,len(cust_id)):\n",
    "    id = cust_id[i]\n",
    "    number = cust_number[i]\n",
    "    sample_area.customer_data_entry(id,number)"
   ]
  },
  {
   "cell_type": "code",
   "execution_count": 6,
   "metadata": {},
   "outputs": [
    {
     "name": "stdout",
     "output_type": "stream",
     "text": [
      "Vehicle Id = 1  True  \n",
      "Vehicle Id = 2  True  \n",
      "Vehicle Id = 3  True  \n",
      "Vehicle Id = 4  True  \n",
      "Vehicle Id = 5  True  \n",
      "Vehicle Id = 6  True  \n",
      "Vehicle Id = 7  True  \n",
      "Vehicle Id = 8  True  \n",
      "Vehicle Id = 9  True  \n",
      "Vehicle Id = 10  True  \n",
      "Vehicle Id = 11  True  \n",
      "Vehicle Id = 12  True  \n",
      "Vehicle Id = 13  True  \n",
      "Vehicle Id = 14  True  \n",
      "Vehicle Id = 15  True  \n",
      "Vehicle Id = 16  True  \n",
      "Vehicle Id = 17  True  \n",
      "Vehicle Id = 18  True  \n",
      "Vehicle Id = 19  True  \n",
      "Vehicle Id = 20  True  \n",
      "No free parking slots available\n",
      "Vehicle Id = 21  False  \n",
      "No free parking slots available\n",
      "Vehicle Id = 22  False  \n",
      "Vehicle Id = 24  True  \n",
      "No free parking slots available\n",
      "Vehicle Id = 25  False  \n",
      "No free parking slots available\n",
      "Vehicle Id = 26  False  \n",
      "Vehicle Id = 45  True  \n",
      "Vehicle Id = 47  True  \n",
      "Vehicle Id = 48  True  \n",
      "Vehicle Id = 51  True  \n",
      "Vehicle Id = 52  True  \n",
      "Vehicle Id = 53  True  \n",
      "Vehicle Id = 54  True  \n",
      "Vehicle Id = 55  True  \n",
      "Vehicle Id = 56  True  \n",
      "Vehicle Id = 57  True  \n",
      "Vehicle Id = 58  True  \n",
      "Vehicle Id = 59  True  \n",
      "Vehicle Id = 60  True  \n",
      "Vehicle Id = 61  True  \n",
      "Vehicle Id = 62  True  \n",
      "Vehicle Id = 63  True  \n",
      "Vehicle Id = 64  True  \n",
      "Vehicle Id = 65  True  \n",
      "Vehicle Id = 66  True  \n",
      "Vehicle Id = 68  True  \n",
      "Vehicle Id = 69  True  \n",
      "Vehicle Id = 70  True  \n",
      "No free parking slots available\n",
      "Vehicle Id = 71  False  \n",
      "No free parking slots available\n",
      "Vehicle Id = 72  False  \n",
      "No free parking slots available\n",
      "Vehicle Id = 73  False  \n",
      "No free parking slots available\n",
      "Vehicle Id = 74  False  \n",
      "No free parking slots available\n",
      "Vehicle Id = 75  False  \n",
      "No free parking slots available\n",
      "Vehicle Id = 76  False  \n",
      "Vehicle Id = 79  True  \n",
      "Vehicle Id = 80  True  \n",
      "Vehicle Id = 86  True  \n"
     ]
    }
   ],
   "source": [
    "for i in range(0,len(vehicle_id)):   \n",
    "    id = vehicle_id[i] \n",
    "    number = vehicle_number[i]\n",
    "    entry = entry_time_data[i]\n",
    "    exit = exit_time_data[i]\n",
    "    dt = date_data[i]\n",
    "\n",
    "    cmd = f\"SELECT * FROM {sample_area.parked_table_name} WHERE Car_Number = '{number}'\"\n",
    "    check = sample_area.db_cur.execute(cmd).fetchall()\n",
    "\n",
    "    if len(check) == 0:\n",
    "        ret = sample_area.entry(number,dt,entry)\n",
    "        print(f\"Vehicle Id = {id}  {ret}  \")\n",
    "    else:\n",
    "        ret = sample_area.exit(number,exit)\n",
    "    \n",
    "    #Just for dummy dataset\n",
    "    if i == len(vehicle_id-1):\n",
    "        sample_area.daily_average(dt)\n",
    "    \n",
    "    \n",
    "    \n",
    "\n",
    "    "
   ]
  },
  {
   "cell_type": "code",
   "execution_count": 7,
   "metadata": {},
   "outputs": [
    {
     "name": "stdout",
     "output_type": "stream",
     "text": [
      "[('DL-14-GH-5678', '2024-07-03', '18:45', '17:30'), ('KA-01-AB-1234', '2024-07-01', '09:00', '11:45'), ('DL-05-CD-5678', '2024-07-01', '11:15', '14:45'), ('MH-12-EF-9101', '2024-07-01', '14:00', '18:15'), ('AP-31-GH-2345', '2024-07-01', '15:45', '18:30'), ('TN-22-IJ-6789', '2024-07-01', '17:30', '20:30'), ('KA-02-KL-3456', '2024-07-01', '19:00', '21:45'), ('DL-06-MN-7890', '2024-07-02', '09:15', '11:15'), ('KA-03-UV-2345', '2024-07-02', '11:45', '15:45'), ('DL-08-GH-5678', '2024-07-02', '14:30', '17:15'), ('MH-13-OP-1234', '2024-07-02', '16:00', '19:00'), ('TN-23-ST-9101', '2024-07-02', '18:30', '21:45'), ('KA-04-EF-1234', '2024-07-02', '20:00', '23:00'), ('DL-07-WX-6789', '2024-07-02', '21:15', '23:45'), ('MH-14-YZ-9101', '2024-07-03', '10:00', '12:30'), ('AP-33-AB-3456', '2024-07-03', '12:15', '15:00'), ('TN-24-CD-7890', '2024-07-03', '13:30', '18:00'), ('KA-05-GH-6789', '2024-07-03', '15:15', '20:00'), ('MH-21-IJ-9101', '2024-07-03', '17:00', '22:30'), ('KA-07-AB-1234', '2024-07-04', '08:45', '11:15'), ('DL-14-GH-5678', '2024-07-07', '19:45', '19:45'), ('TN-25-MN-6789', '2024-07-04', '16:45', '21:30'), ('TN-23-ST-9101', '2024-07-09', '17:45', '13:45'), ('AP-36-WX-5678', '2024-07-08', '11:00', '20:30'), ('MH-17-UV-1234', '2024-07-08', '13:30', '22:30'), ('KA-10-EF-1234', '2024-07-08', '20:00', '14:15'), ('AP-32-QR-5678', '2024-07-09', '09:00', '16:00'), ('TN-28-IJ-6789', '2024-07-09', '10:45', '18:45'), ('MH-15-IJ-9101', '2024-07-09', '13:00', '20:30'), ('AP-34-KL-2345', '2024-07-09', '15:15', '22:45'), ('KA-01-AB-1234', '2024-07-09', '20:00', '12:30'), ('DL-05-CD-5678', '2024-07-09', '21:30', '14:45'), ('MH-12-EF-9101', '2024-07-10', '08:45', '17:45'), ('AP-31-GH-2345', '2024-07-10', '11:15', '19:15'), ('TN-22-IJ-6789', '2024-07-10', '13:00', '21:00'), ('KA-02-KL-3456', '2024-07-10', '14:45', '23:00'), ('DL-06-MN-7890', '2024-07-10', '17:00', '23:45'), ('KA-03-UV-2345', '2024-07-10', '19:30', '11:30'), ('DL-08-GH-5678', '2024-07-10', '20:45', '14:45'), ('MH-13-OP-1234', '2024-07-11', '08:45', '18:00'), ('TN-23-ST-9101', '2024-07-13', '21:00', '20:30'), ('KA-04-EF-1234', '2024-07-11', '13:15', '22:15'), ('DL-07-WX-6789', '2024-07-11', '16:00', '23:45'), ('MH-14-YZ-9101', '2024-07-11', '17:30', '23:45')]\n"
     ]
    }
   ],
   "source": [
    "print(sample_area.db_cur.execute(f\"SELECT * FROM {sample_area.record_table_name}\").fetchall())\n"
   ]
  },
  {
   "cell_type": "code",
   "execution_count": 8,
   "metadata": {},
   "outputs": [
    {
     "name": "stdout",
     "output_type": "stream",
     "text": [
      "6\n",
      "30.0\n",
      "30.0\n"
     ]
    }
   ],
   "source": [
    "print(sample_area.daily_slot_count[\"2024-07-01\"])\n",
    "print(sample_area.daily_slot_average[\"2024-07-01\"])\n",
    "print(sample_area.daily_slot_average[\"2024-07-01\"])"
   ]
  },
  {
   "cell_type": "code",
   "execution_count": 9,
   "metadata": {},
   "outputs": [
    {
     "name": "stdout",
     "output_type": "stream",
     "text": [
      "Total slots not available over the weeks =  10\n"
     ]
    }
   ],
   "source": [
    "sample_area.slot_unavailable_count[\"2024-07-11\"]\n",
    "print(\"Total slots not available over the weeks = \", sum(sample_area.slot_unavailable_count.values()))"
   ]
  },
  {
   "cell_type": "code",
   "execution_count": 10,
   "metadata": {},
   "outputs": [
    {
     "name": "stdout",
     "output_type": "stream",
     "text": [
      "present\n"
     ]
    }
   ],
   "source": [
    "id = \"AP-35-MN-9101\"\n",
    "check_cmd = f\"SELECT * FROM {sample_area.customer_table_name} WHERE Car_Number = '{id}'\"\n",
    "res = sample_area.db_cur.execute(check_cmd)\n",
    "count = res.fetchone()\n",
    "if count:\n",
    "    print(\"present\")"
   ]
  },
  {
   "cell_type": "code",
   "execution_count": 17,
   "metadata": {},
   "outputs": [
    {
     "data": {
      "image/png": "[encoded data removed]",
      "text/plain": [
       "<Figure size 1000x500 with 1 Axes>"
      ]
     },
     "metadata": {},
     "output_type": "display_data"
    }
   ],
   "source": [
    "import matplotlib.pyplot as plt\n",
    "import matplotlib.dates as mdates\n",
    "from datetime import datetime\n",
    "\n",
    "# Sample data dictionary\n",
    "data = sample_area.slot_unavailable_count\n",
    "\n",
    "\n",
    "# Convert the dictionary to lists of dates and counts\n",
    "dates = [datetime.strptime(date, '%Y-%m-%d') for date in data.keys()]\n",
    "counts = list(data.values())\n",
    "\n",
    "# Create the plot\n",
    "plt.figure(figsize=(10, 5))\n",
    "plt.plot(dates, counts, marker='o')\n",
    "\n",
    "# Format the date axis\n",
    "plt.gca().xaxis.set_major_formatter(mdates.DateFormatter('%Y-%m-%d'))\n",
    "plt.gca().xaxis.set_major_locator(mdates.DayLocator())\n",
    "plt.gcf().autofmt_xdate()\n",
    "\n",
    "# Add labels and title\n",
    "plt.xlabel('Date')\n",
    "plt.ylabel('Count')\n",
    "plt.title('Date vs Count')\n",
    "\n",
    "# Show the plot\n",
    "plt.show()\n"
   ]
  }
 ],
 "metadata": {
  "kernelspec": {
   "display_name": ".venv",
   "language": "python",
   "name": "python3"
  },
  "language_info": {
   "codemirror_mode": {
    "name": "ipython",
    "version": 3
   },
   "file_extension": ".py",
   "mimetype": "text/x-python",
   "name": "python",
   "nbconvert_exporter": "python",
   "pygments_lexer": "ipython3",
   "version": "3.10.11"
  }
 },
 "nbformat": 4,
 "nbformat_minor": 2
}
